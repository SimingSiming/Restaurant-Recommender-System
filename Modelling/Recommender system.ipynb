{
 "cells": [
  {
   "cell_type": "code",
   "execution_count": 1,
   "id": "44dfa3e2-dc6d-4b6d-82ab-2f5568f169f1",
   "metadata": {},
   "outputs": [],
   "source": [
    "# Import the libraries \n",
    "import warnings\n",
    "warnings.filterwarnings('ignore')\n",
    "\n",
    "import pandas as pd\n",
    "import os\n",
    "import numpy as np \n",
    "import matplotlib.pyplot as plt\n",
    "import seaborn as sns\n",
    "from tqdm import tqdm\n",
    "\n",
    "from scipy.sparse import csr_matrix\n",
    "from sklearn.metrics.pairwise import cosine_similarity\n",
    "from sklearn.metrics import mean_squared_error, mean_absolute_error, make_scorer\n",
    "from sklearn.ensemble import RandomForestRegressor\n",
    "from sklearn.ensemble import GradientBoostingRegressor\n",
    "from sklearn.linear_model import LinearRegression\n",
    "from sklearn.model_selection import GridSearchCV as sk_GridSearch\n",
    "from sklearn.svm import SVR\n",
    "from scipy.sparse.linalg import svds\n",
    "from implicit.als import AlternatingLeastSquares\n",
    "\n",
    "from surprise import Dataset, Reader\n",
    "from surprise.model_selection import GridSearchCV, train_test_split\n",
    "from surprise import KNNWithMeans, KNNBasic, SVD, SVDpp, NMF\n",
    "from surprise import accuracy\n",
    "from loguru import logger\n",
    "\n",
    "plt.style.use(\"Solarize_Light2\")"
   ]
  },
  {
   "cell_type": "code",
   "execution_count": 2,
   "id": "eb738847-949e-4746-9f64-19307f8fac2f",
   "metadata": {},
   "outputs": [],
   "source": [
    "# Load the datasets\n",
    "restaraunts = pd.read_csv('../data/clean/restaraunts_labels.csv', usecols=lambda column: column not in ['Unnamed: 0'])\n",
    "users = pd.read_csv('../data/clean/users_commmunities.csv', usecols=lambda column: column not in ['Unnamed: 0'])\n",
    "ratings = pd.read_csv('../data/clean/ratings.csv', usecols=lambda column: column not in ['Unnamed: 0'])"
   ]
  },
  {
   "cell_type": "markdown",
   "id": "680fedd8-1500-4474-ab14-121010188bae",
   "metadata": {},
   "source": [
    "Since we have 0 in the ratings column and that corresponds to least rating we will add 1 to preserve the ordinanality "
   ]
  },
  {
   "cell_type": "code",
   "execution_count": 3,
   "id": "f0d7e9bc-6bcf-4fa2-b821-464771266b70",
   "metadata": {},
   "outputs": [],
   "source": [
    "ratings['rating'] = ratings['rating'] + 1\n",
    "ratings['food_rating'] = ratings['food_rating'] + 1\n",
    "ratings['service_rating'] = ratings['service_rating'] + 1"
   ]
  },
  {
   "cell_type": "markdown",
   "id": "3d7feeb3-b5dd-4947-8588-d218845235ea",
   "metadata": {},
   "source": [
    "#### We will start with building User & Item Based Collaborative Filtering Recommender system \n",
    "#### Data Processing "
   ]
  },
  {
   "cell_type": "code",
   "execution_count": null,
   "id": "fd53abb5-daa0-4237-aa51-f036cce559a3",
   "metadata": {},
   "outputs": [],
   "source": [
    "min_rating = ratings['rating'].min()\n",
    "max_rating = ratings['rating'].max()\n",
    "reader = Reader(rating_scale=(min_rating, max_rating))\n",
    "data = Dataset.load_from_df(ratings[['userID', 'placeID', 'rating']], reader=reader)\n",
    "trainset, testset = train_test_split(data, test_size=0.2)"
   ]
  },
  {
   "cell_type": "code",
   "execution_count": null,
   "id": "d2a0f291-2e77-40c4-a1d6-1c59e5984fb9",
   "metadata": {},
   "outputs": [],
   "source": [
    "print(f\"Number of Users in TrainSet : {trainset.n_users}\")\n",
    "print(f\"Number of Items in TrainSet : {trainset.n_items}\")"
   ]
  },
  {
   "cell_type": "code",
   "execution_count": null,
   "id": "749dcbd5-ad61-4b51-8ceb-01cbe32f9075",
   "metadata": {},
   "outputs": [],
   "source": [
    "# Intiliaze Empty Dictionary for capturing performance metrics of different algos\n",
    "model_performance = {}"
   ]
  },
  {
   "cell_type": "code",
   "execution_count": null,
   "id": "69ffd219-5c0f-4f74-ac93-32268c4bdb6e",
   "metadata": {},
   "outputs": [],
   "source": [
    "item_mapper = restaraunts.set_index('placeID').to_dict()['name']\n",
    "item_list = ratings['placeID'].unique().tolist()"
   ]
  },
  {
   "cell_type": "markdown",
   "id": "f52149b4-29a0-491e-aa76-ac2224fc21e7",
   "metadata": {},
   "source": [
    "### Function to recommend restaraunts "
   ]
  },
  {
   "cell_type": "code",
   "execution_count": null,
   "id": "6dd853c7-a6b1-4a17-b09c-bacde0e25333",
   "metadata": {},
   "outputs": [],
   "source": [
    "def recommend_places(user_id, item_list, item_mapper, model, topk):\n",
    "    # Predict ratings for all items in the item_list for the given user\n",
    "    item_ratings = [model.predict(user_id, item).est for item in item_list]\n",
    "    \n",
    "    # Create a DataFrame with Restaurant ID and Predicted Ratings\n",
    "    pred_df = pd.DataFrame({\n",
    "        \"Restaraunt ID\": item_list,\n",
    "        \"rating\": item_ratings\n",
    "    })\n",
    "    \n",
    "    # Map Restaurant IDs to their names using the item_mapper\n",
    "    pred_df['Restaraunt Name'] = pred_df['Restaraunt ID'].map(item_mapper)\n",
    "    \n",
    "    # Sort the DataFrame by predicted ratings in descending order\n",
    "    pred_df = pred_df.sort_values(by='rating', ascending=False)\n",
    "    \n",
    "    # Return only the top k recommended places\n",
    "    top_recommendations = pred_df.head(topk)\n",
    "    \n",
    "    return top_recommendations[['Restaraunt ID', 'Restaraunt Name']]"
   ]
  },
  {
   "cell_type": "code",
   "execution_count": null,
   "id": "df09a201-c912-4852-b687-a9bd18f8269b",
   "metadata": {},
   "outputs": [],
   "source": [
    "# Initialsize an empty dict for optimised model performance\n",
    "optimized_model_performance = {}"
   ]
  },
  {
   "cell_type": "markdown",
   "id": "87593ff4-a842-4df7-a885-110d9a283c0f",
   "metadata": {},
   "source": [
    "### User Based/Item Based Collaborative Filtering"
   ]
  },
  {
   "cell_type": "markdown",
   "id": "b1daf92a-8361-4a87-b104-6a8f83332f40",
   "metadata": {},
   "source": [
    "Optimising using hyperparamter tuning "
   ]
  },
  {
   "cell_type": "markdown",
   "id": "1db9e1c3-14a0-4fd6-8734-21fab6394d88",
   "metadata": {},
   "source": [
    "#### KNNBasic "
   ]
  },
  {
   "cell_type": "code",
   "execution_count": null,
   "id": "08c77a70-2149-448d-8d3e-79072541d85e",
   "metadata": {},
   "outputs": [],
   "source": [
    "param_grid = {\n",
    "    'k': [10, 20, 30, 40, 50],  # Number of neighbors\n",
    "    'sim_options': {\n",
    "        'name': ['msd', 'cosine', 'pearson'],  # Similarity measures\n",
    "        'user_based': [True, False]  # User-based CF or Item-based CF\n",
    "    }, \n",
    "    'verbose' : [False]\n",
    "}\n",
    "\n",
    "# Configure GridSearchCV\n",
    "gs = GridSearchCV(KNNBasic, param_grid, measures=['rmse', 'mae'], cv=3)\n",
    "\n",
    "# Perform grid search\n",
    "gs.fit(data)"
   ]
  },
  {
   "cell_type": "code",
   "execution_count": null,
   "id": "6243bcb9-a6b4-4de5-a87f-6af38e42f837",
   "metadata": {},
   "outputs": [],
   "source": [
    "# Checking Best Score and Parameters using RMSE as the performance Criteria\n",
    "print(\"Performance Metrics : RMSE\")\n",
    "print(\"RMSE:\",gs.best_score['rmse'])\n",
    "print(\"Best Params:\",gs.best_params['rmse'])\n",
    "print()"
   ]
  },
  {
   "cell_type": "code",
   "execution_count": null,
   "id": "fab9c92b-014b-4eb3-ab18-b248031259d6",
   "metadata": {},
   "outputs": [],
   "source": [
    "# Fitting the best model on Train Data and Testing on Test Data \n",
    "knn_basic_params = {'k': 40, 'sim_options': {'name': 'msd', 'user_based': False}, 'verbose': False}\n",
    "knn_basic_final = KNNBasic(**knn_basic_params)\n",
    "\n",
    "knn_basic_final.fit(trainset)\n",
    "\n",
    "knn_basic_final_predictions = knn_basic_final.test(testset)\n",
    "\n",
    "print(\"Model : KnnBasic\")\n",
    "knn_basic_final_rmse = accuracy.rmse(knn_basic_final_predictions)\n",
    "knn_basic_final_mae  = accuracy.mae(knn_basic_final_predictions)\n",
    "\n",
    "optimized_model_performance['knn_basic'] = {\n",
    "    'RMSE' : knn_basic_final_rmse,\n",
    "    'MAE' : knn_basic_final_mae\n",
    "}"
   ]
  },
  {
   "cell_type": "code",
   "execution_count": null,
   "id": "ddc67246-e03b-4fb5-b13a-9c34851ba3c2",
   "metadata": {},
   "outputs": [],
   "source": [
    "recommend_places(user_id='U1081',\n",
    "                 item_list=item_list,\n",
    "                 item_mapper=item_mapper,\n",
    "                 model=knn_basic_final,\n",
    "                 topk=10)"
   ]
  },
  {
   "cell_type": "markdown",
   "id": "b0d4e554-dd27-4e4f-89ed-a4a70c001efe",
   "metadata": {},
   "source": [
    "#### KNNMeans"
   ]
  },
  {
   "cell_type": "code",
   "execution_count": null,
   "id": "a49af2c3-a406-4dd9-9426-76f6f3bbb627",
   "metadata": {},
   "outputs": [],
   "source": [
    "# Define the parameter grid\n",
    "param_grid_knn_means = {\n",
    "    'k': [10, 20, 30, 40, 50],  # number of neighbors\n",
    "    'sim_options': {\n",
    "        'name': ['msd', 'cosine', 'pearson'],  # similarity measure\n",
    "        'user_based': [True, False]  # user-based or item-based CF,\n",
    "    },\n",
    "    'verbose' : [False]\n",
    "}\n",
    "\n",
    "# Configure and run the grid search\n",
    "gs_knn_means = GridSearchCV(KNNWithMeans, param_grid_knn_means, measures=['rmse'], cv=3)\n",
    "gs_knn_means.fit(data)"
   ]
  },
  {
   "cell_type": "code",
   "execution_count": null,
   "id": "a3324274-1efb-49b2-ac94-9a59696f11ea",
   "metadata": {},
   "outputs": [],
   "source": [
    "# Fetching Best RMSE and Params\n",
    "best_rmse_knn_means = gs_knn_means.best_score['rmse']\n",
    "best_params_rmse_knn_means = gs_knn_means.best_params['rmse']\n",
    "print(f\"Performance Metrics : RMSE\")\n",
    "print(f\"RMSE : {best_rmse_knn_means}\")\n",
    "print(f\"Best Params : {best_params_rmse_knn_means}\")"
   ]
  },
  {
   "cell_type": "code",
   "execution_count": null,
   "id": "131fa630-b466-4ea6-a0e6-7ec72fdccb69",
   "metadata": {},
   "outputs": [],
   "source": [
    "# Fitting the best model on Train Set and testing on Test Set \n",
    "best_params_knn_means = {'k': 50, 'sim_options': {'name': 'msd', 'user_based': False}, 'verbose': False}\n",
    "knn_means_final = KNNWithMeans(**best_params_knn_means)\n",
    "\n",
    "# Fitting the final model on train set \n",
    "knn_means_final.fit(trainset)\n",
    "\n",
    "# Getting predictions on test set \n",
    "knn_means_final_predictions = knn_means_final.test(testset)\n",
    "\n",
    "# Calculating Performance Metrics\n",
    "print(\"Model Name : KNNWithMeans\")\n",
    "knn_means_final_rmse = accuracy.rmse(knn_means_final_predictions)\n",
    "knn_means_final_mae = accuracy.mae(knn_means_final_predictions)\n",
    "\n",
    "optimized_model_performance['KnnWithMeans'] = {\n",
    "    \"RMSE\" : knn_means_final_rmse, \n",
    "    \"MAE\" : knn_means_final_mae\n",
    "}"
   ]
  },
  {
   "cell_type": "code",
   "execution_count": null,
   "id": "201c4e76-e542-46b6-9459-8904a19e5d50",
   "metadata": {},
   "outputs": [],
   "source": [
    "recommend_places(user_id='U1081',\n",
    "                 item_list=item_list,\n",
    "                 item_mapper=item_mapper,\n",
    "                 model=knn_means_final,\n",
    "                 topk=10)"
   ]
  },
  {
   "cell_type": "markdown",
   "id": "455e45cc-f1ee-4fbe-9271-b6fdc618ec1d",
   "metadata": {},
   "source": [
    "### Matrix Factorisation Collaborative Filtering "
   ]
  },
  {
   "cell_type": "markdown",
   "id": "b9d2c44a-7939-4a3b-9d30-7eafee838968",
   "metadata": {},
   "source": [
    "### SVD"
   ]
  },
  {
   "cell_type": "code",
   "execution_count": null,
   "id": "bf4d9844-bfc3-4ab4-8c30-60195ea6d7a9",
   "metadata": {},
   "outputs": [],
   "source": [
    "# Define the parameter grid\n",
    "param_grid_svd = {\n",
    "    'n_factors': [50, 100, 150, 200],  # Number of factors\n",
    "    'lr_all': [0.002, 0.005, 0.007],  # Learning rate\n",
    "    'reg_all': [0.02, 0.05, 0.1]  # Regularization term\n",
    "}\n",
    "\n",
    "# Configure GridSearchCV\n",
    "gs_svd = GridSearchCV(SVD, param_grid_svd, measures=['rmse'], cv=3)\n",
    "\n",
    "# Fit GridSearchCV\n",
    "gs_svd.fit(data)"
   ]
  },
  {
   "cell_type": "code",
   "execution_count": null,
   "id": "62fa488c-6a87-4426-a923-ac54b1d6cb7c",
   "metadata": {},
   "outputs": [],
   "source": [
    "best_rmse_svd = gs_svd.best_score['rmse']\n",
    "best_params_svd = gs_svd.best_params['rmse']\n",
    "print(\"Performance Metrics : RMSE\")\n",
    "print(f\"RMSE : {best_rmse_svd}\")\n",
    "print(f\"Best Params : {best_params_svd}\")"
   ]
  },
  {
   "cell_type": "code",
   "execution_count": null,
   "id": "fc914fa0-4599-4fa2-a81b-e902261a8f2c",
   "metadata": {},
   "outputs": [],
   "source": [
    "# Fitting the best svd model on whole training data and getting predictions on test set \n",
    "svd_final = SVD(**best_params_svd)\n",
    "\n",
    "# Training on Trainset \n",
    "svd_final.fit(trainset)\n",
    "\n",
    "# Testing on test set \n",
    "svd_final_predictions = svd_final.test(testset)\n",
    "\n",
    "print(\"Model Name : SVD\")\n",
    "svd_final_rmse = accuracy.rmse(svd_final_predictions)\n",
    "svd_final_mae = accuracy.mae(svd_final_predictions)\n",
    "\n",
    "optimized_model_performance['SVD'] = {\n",
    "    \"RMSE\" : svd_final_rmse, \n",
    "    \"MAE\" : svd_final_mae\n",
    "}"
   ]
  },
  {
   "cell_type": "code",
   "execution_count": null,
   "id": "b8131231-59d4-459c-989c-60af5c6b0d06",
   "metadata": {},
   "outputs": [],
   "source": [
    "recommend_places(user_id='U1081',\n",
    "                 item_list=item_list,\n",
    "                 item_mapper=item_mapper,\n",
    "                 model=svd_final,\n",
    "                 topk=10)"
   ]
  },
  {
   "cell_type": "markdown",
   "id": "02e447ce-317c-416c-bde0-691c83e55cb8",
   "metadata": {},
   "source": [
    "### NMF"
   ]
  },
  {
   "cell_type": "code",
   "execution_count": null,
   "id": "2a639513-e1ad-4133-a148-1495bd29210e",
   "metadata": {},
   "outputs": [],
   "source": [
    "# Define the parameter grid\n",
    "param_grid_nmf = {\n",
    "        'n_factors': [50, 100, 150, 200],  # Number of latent factors\n",
    "        'n_epochs': [50, 100],  # Number of epochs\n",
    "        'reg_pu': [0.06, 0.1],  # Regularization term for users\n",
    "        'reg_qi': [0.06, 0.1]  # Regularization term for items\n",
    "}\n",
    "\n",
    "# Configure GridSearchCV\n",
    "gs_nmf = GridSearchCV(NMF, param_grid_nmf, measures=['rmse'], cv=3)\n",
    "\n",
    "# Fit GridSearchCV\n",
    "gs_nmf.fit(data)"
   ]
  },
  {
   "cell_type": "code",
   "execution_count": null,
   "id": "532099da-a3e7-4fdc-aeba-1593668643a2",
   "metadata": {},
   "outputs": [],
   "source": [
    "best_rmse_nmf = gs_nmf.best_score['rmse']\n",
    "best_params_nmf = gs_nmf.best_params['rmse']\n",
    "print(\"Performance Metrics : RMSE\")\n",
    "print(f\"RMSE : {best_rmse_nmf}\")\n",
    "print(f\"Best Params : {best_params_nmf}\")"
   ]
  },
  {
   "cell_type": "code",
   "execution_count": null,
   "id": "296c4be1-d156-4a86-a26e-97f5a98bed71",
   "metadata": {},
   "outputs": [],
   "source": [
    "## Fitting the best NMF Model with best params\n",
    "nmf_final = NMF(**best_params_nmf)\n",
    "\n",
    "# Fit the model on training set \n",
    "nmf_final.fit(trainset)\n",
    "\n",
    "# Get predictions on test set \n",
    "nmf_final_predictions = nmf_final.test(testset)\n",
    "\n",
    "print(\"Model Name : NMF\")\n",
    "nmf_final_rmse = accuracy.rmse(nmf_final_predictions)\n",
    "nmf_final_mae = accuracy.mae(nmf_final_predictions)\n",
    "\n",
    "optimized_model_performance['NMF'] = {\n",
    "    \"RMSE\" : nmf_final_rmse,\n",
    "    \"MAE\"  : nmf_final_mae\n",
    "}"
   ]
  },
  {
   "cell_type": "code",
   "execution_count": null,
   "id": "f39e2ad4-951b-46d2-88a2-b2a70dea00d6",
   "metadata": {},
   "outputs": [],
   "source": [
    "recommend_places(user_id='U1081',\n",
    "                 item_list=item_list,\n",
    "                 item_mapper=item_mapper,\n",
    "                 model=nmf_final,\n",
    "                 topk=10)"
   ]
  },
  {
   "cell_type": "markdown",
   "id": "b10f4d68-e311-4524-a5aa-d4b05b16c907",
   "metadata": {},
   "source": [
    "### Performance Comparison "
   ]
  },
  {
   "cell_type": "code",
   "execution_count": null,
   "id": "f25aefd3-cbb9-4bf7-89fa-6ade4861c724",
   "metadata": {},
   "outputs": [],
   "source": [
    "opt_performance_df = pd.DataFrame(optimized_model_performance).T\n",
    "opt_performance_df = opt_performance_df.sort_values(by=['RMSE', 'MAE'], ascending=[False, False])\n",
    "opt_performance_df.head()\n",
    "\n",
    "opt_performance_df = opt_performance_df.reset_index()\n",
    "opt_performance_df.rename(columns={'index' : 'Model'}, inplace=True)\n",
    "opt_performance_df.head()"
   ]
  },
  {
   "cell_type": "code",
   "execution_count": null,
   "id": "68c8337d-2d14-42b2-8cc4-eb49dbe08b2f",
   "metadata": {},
   "outputs": [],
   "source": [
    "# Now, let's use seaborn to plot the model performance\n",
    "sns.set(style=\"whitegrid\")\n",
    "fig, ax1 = plt.subplots(figsize=(10, 6))\n",
    "\n",
    "# Plotting RMSE values\n",
    "sns.barplot(x=\"Model\", y=\"RMSE\", data=opt_performance_df, color='b', ax=ax1)\n",
    "ax1.set_ylabel('RMSE', color='b')\n",
    "\n",
    "# Creating a twin Y-axis to plot MAE values\n",
    "ax2 = ax1.twinx()\n",
    "sns.lineplot(x=\"Model\", y=\"MAE\", data=opt_performance_df, marker='o', color='r', ax=ax2)\n",
    "ax2.set_ylabel('MAE', color='r')\n",
    "\n",
    "# Setting the plot title and labels\n",
    "plt.title('Comparison of Model Performance (RMSE and MAE)')\n",
    "ax1.set_xticklabels(ax1.get_xticklabels(), rotation=45, ha='right')\n",
    "plt.tight_layout()\n",
    "\n",
    "# Display the plot\n",
    "plt.show()"
   ]
  },
  {
   "cell_type": "markdown",
   "id": "6c7d1db9-768c-4c45-b1ec-0616c85e4ebc",
   "metadata": {},
   "source": [
    "We can see that KNNBasic Item Based Collaborating Filterting performs the best "
   ]
  },
  {
   "cell_type": "code",
   "execution_count": 4,
   "id": "06a8efb2-0b79-4f2c-b220-51d2f7459453",
   "metadata": {},
   "outputs": [
    {
     "data": {
      "text/html": [
       "<div>\n",
       "<style scoped>\n",
       "    .dataframe tbody tr th:only-of-type {\n",
       "        vertical-align: middle;\n",
       "    }\n",
       "\n",
       "    .dataframe tbody tr th {\n",
       "        vertical-align: top;\n",
       "    }\n",
       "\n",
       "    .dataframe thead th {\n",
       "        text-align: right;\n",
       "    }\n",
       "</style>\n",
       "<table border=\"1\" class=\"dataframe\">\n",
       "  <thead>\n",
       "    <tr style=\"text-align: right;\">\n",
       "      <th></th>\n",
       "      <th>userID</th>\n",
       "      <th>placeID</th>\n",
       "      <th>rating</th>\n",
       "      <th>food_rating</th>\n",
       "      <th>service_rating</th>\n",
       "    </tr>\n",
       "  </thead>\n",
       "  <tbody>\n",
       "    <tr>\n",
       "      <th>0</th>\n",
       "      <td>U1077</td>\n",
       "      <td>135085</td>\n",
       "      <td>3</td>\n",
       "      <td>3</td>\n",
       "      <td>3</td>\n",
       "    </tr>\n",
       "    <tr>\n",
       "      <th>1</th>\n",
       "      <td>U1077</td>\n",
       "      <td>135038</td>\n",
       "      <td>3</td>\n",
       "      <td>3</td>\n",
       "      <td>2</td>\n",
       "    </tr>\n",
       "  </tbody>\n",
       "</table>\n",
       "</div>"
      ],
      "text/plain": [
       "  userID  placeID  rating  food_rating  service_rating\n",
       "0  U1077   135085       3            3               3\n",
       "1  U1077   135038       3            3               2"
      ]
     },
     "execution_count": 4,
     "metadata": {},
     "output_type": "execute_result"
    }
   ],
   "source": [
    "ratings.head(2)"
   ]
  },
  {
   "cell_type": "code",
   "execution_count": 7,
   "id": "1f65cf8d-cca7-493c-957e-c01ab1886c23",
   "metadata": {},
   "outputs": [
    {
     "data": {
      "text/plain": [
       "Index(['userID', 'latitude', 'longitude', 'smoker', 'drink_level',\n",
       "       'dress_preference', 'ambience', 'transport', 'marital_status', 'hijos',\n",
       "       'interest', 'personality', 'activity', 'budget', 'Rcuisine_str',\n",
       "       'Upayment_str', 'age_group', 'cuisine_list', 'community'],\n",
       "      dtype='object')"
      ]
     },
     "execution_count": 7,
     "metadata": {},
     "output_type": "execute_result"
    }
   ],
   "source": [
    "users.columns"
   ]
  },
  {
   "cell_type": "code",
   "execution_count": 8,
   "id": "3ddae5b4-f3ab-45a1-91fe-fc5abe75e7d5",
   "metadata": {},
   "outputs": [
    {
     "data": {
      "text/plain": [
       "Index(['placeID', 'latitude', 'longitude', 'name', 'state', 'alcohol',\n",
       "       'smoking_area', 'dress_code', 'accessibility', 'price', 'Rambience',\n",
       "       'franchise', 'area', 'other_services', 'Rcuisine_str', 'Rpayment_str',\n",
       "       'parking_lot_str', 'cluster'],\n",
       "      dtype='object')"
      ]
     },
     "execution_count": 8,
     "metadata": {},
     "output_type": "execute_result"
    }
   ],
   "source": [
    "restaraunts.columns"
   ]
  },
  {
   "cell_type": "code",
   "execution_count": null,
   "id": "70330a9f-ddee-4e81-bdec-e5aef82eba1a",
   "metadata": {},
   "outputs": [],
   "source": []
  }
 ],
 "metadata": {
  "kernelspec": {
   "display_name": "Python 3 (ipykernel)",
   "language": "python",
   "name": "python3"
  },
  "language_info": {
   "codemirror_mode": {
    "name": "ipython",
    "version": 3
   },
   "file_extension": ".py",
   "mimetype": "text/x-python",
   "name": "python",
   "nbconvert_exporter": "python",
   "pygments_lexer": "ipython3",
   "version": "3.11.8"
  }
 },
 "nbformat": 4,
 "nbformat_minor": 5
}
