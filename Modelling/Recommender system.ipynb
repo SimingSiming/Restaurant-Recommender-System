{
 "cells": [
  {
   "cell_type": "code",
   "execution_count": 1,
   "id": "44dfa3e2-dc6d-4b6d-82ab-2f5568f169f1",
   "metadata": {},
   "outputs": [],
   "source": [
    "# Import the libraries \n",
    "import warnings\n",
    "warnings.filterwarnings('ignore')\n",
    "\n",
    "import pandas as pd\n",
    "import os\n",
    "import numpy as np \n",
    "import matplotlib.pyplot as plt\n",
    "import seaborn as sns\n",
    "from tqdm import tqdm\n",
    "\n",
    "from scipy.sparse import csr_matrix\n",
    "from sklearn.metrics.pairwise import cosine_similarity\n",
    "from sklearn.metrics import mean_squared_error, mean_absolute_error, make_scorer\n",
    "from sklearn.ensemble import RandomForestRegressor\n",
    "from sklearn.ensemble import GradientBoostingRegressor\n",
    "from sklearn.linear_model import LinearRegression\n",
    "from sklearn.model_selection import GridSearchCV as sk_GridSearch\n",
    "from sklearn.svm import SVR\n",
    "from scipy.sparse.linalg import svds\n",
    "\n",
    "from surprise import Dataset, Reader\n",
    "from surprise.model_selection import GridSearchCV, train_test_split\n",
    "from surprise import KNNWithMeans, KNNBasic, SVD, SVDpp, NMF\n",
    "from surprise import accuracy\n",
    "from loguru import logger\n",
    "\n",
    "from collections import defaultdict\n",
    "\n",
    "plt.style.use(\"Solarize_Light2\")"
   ]
  },
  {
   "cell_type": "code",
   "execution_count": 2,
   "id": "eb738847-949e-4746-9f64-19307f8fac2f",
   "metadata": {},
   "outputs": [],
   "source": [
    "# Load the datasets\n",
    "restaraunts = pd.read_csv('../data/clean/restaraunts_labels.csv', usecols=lambda column: column not in ['Unnamed: 0'])\n",
    "users = pd.read_csv('../data/clean/users_commmunities.csv', usecols=lambda column: column not in ['Unnamed: 0'])\n",
    "ratings = pd.read_csv('../data/clean/ratings.csv', usecols=lambda column: column not in ['Unnamed: 0'])"
   ]
  },
  {
   "cell_type": "markdown",
   "id": "680fedd8-1500-4474-ab14-121010188bae",
   "metadata": {},
   "source": [
    "Since we have 0 in the ratings column and that corresponds to least rating we will add 1 to preserve the ordinanality "
   ]
  },
  {
   "cell_type": "code",
   "execution_count": 3,
   "id": "f0d7e9bc-6bcf-4fa2-b821-464771266b70",
   "metadata": {},
   "outputs": [],
   "source": [
    "ratings['rating'] = ratings['rating'] + 1\n",
    "ratings['food_rating'] = ratings['food_rating'] + 1\n",
    "ratings['service_rating'] = ratings['service_rating'] + 1"
   ]
  },
  {
   "cell_type": "markdown",
   "id": "3d7feeb3-b5dd-4947-8588-d218845235ea",
   "metadata": {},
   "source": [
    "#### We will start with building User & Item Based Collaborative Filtering Recommender system \n",
    "#### Data Processing "
   ]
  },
  {
   "cell_type": "code",
   "execution_count": 4,
   "id": "fd53abb5-daa0-4237-aa51-f036cce559a3",
   "metadata": {},
   "outputs": [],
   "source": [
    "min_rating = ratings['rating'].min()\n",
    "max_rating = ratings['rating'].max()\n",
    "reader = Reader(rating_scale=(min_rating, max_rating))\n",
    "data = Dataset.load_from_df(ratings[['userID', 'placeID', 'rating']], reader=reader)\n",
    "trainset, testset = train_test_split(data, test_size=0.2)"
   ]
  },
  {
   "cell_type": "code",
   "execution_count": 5,
   "id": "d2a0f291-2e77-40c4-a1d6-1c59e5984fb9",
   "metadata": {},
   "outputs": [
    {
     "name": "stdout",
     "output_type": "stream",
     "text": [
      "Number of Users in TrainSet : 138\n",
      "Number of Items in TrainSet : 130\n"
     ]
    }
   ],
   "source": [
    "print(f\"Number of Users in TrainSet : {trainset.n_users}\")\n",
    "print(f\"Number of Items in TrainSet : {trainset.n_items}\")"
   ]
  },
  {
   "cell_type": "code",
   "execution_count": 6,
   "id": "749dcbd5-ad61-4b51-8ceb-01cbe32f9075",
   "metadata": {},
   "outputs": [],
   "source": [
    "# Intiliaze Empty Dictionary for capturing performance metrics of different algos\n",
    "model_performance = {}"
   ]
  },
  {
   "cell_type": "code",
   "execution_count": 7,
   "id": "69ffd219-5c0f-4f74-ac93-32268c4bdb6e",
   "metadata": {},
   "outputs": [],
   "source": [
    "item_mapper = restaraunts.set_index('placeID').to_dict()['name']\n",
    "item_list = ratings['placeID'].unique().tolist()"
   ]
  },
  {
   "cell_type": "markdown",
   "id": "f52149b4-29a0-491e-aa76-ac2224fc21e7",
   "metadata": {},
   "source": [
    "### Function to recommend restaraunts "
   ]
  },
  {
   "cell_type": "code",
   "execution_count": 8,
   "id": "6dd853c7-a6b1-4a17-b09c-bacde0e25333",
   "metadata": {},
   "outputs": [],
   "source": [
    "def recommend_places(user_id, item_list, item_mapper, model, topk):\n",
    "    # Predict ratings for all items in the item_list for the given user\n",
    "    item_ratings = [model.predict(user_id, item).est for item in item_list]\n",
    "    \n",
    "    # Create a DataFrame with Restaurant ID and Predicted Ratings\n",
    "    pred_df = pd.DataFrame({\n",
    "        \"Restaraunt ID\": item_list,\n",
    "        \"rating\": item_ratings\n",
    "    })\n",
    "    \n",
    "    # Map Restaurant IDs to their names using the item_mapper\n",
    "    pred_df['Restaraunt Name'] = pred_df['Restaraunt ID'].map(item_mapper)\n",
    "    \n",
    "    # Sort the DataFrame by predicted ratings in descending order\n",
    "    pred_df = pred_df.sort_values(by='rating', ascending=False)\n",
    "    \n",
    "    # Return only the top k recommended places\n",
    "    top_recommendations = pred_df.head(topk)\n",
    "    \n",
    "    return top_recommendations[['Restaraunt ID', 'Restaraunt Name']]"
   ]
  },
  {
   "cell_type": "code",
   "execution_count": 9,
   "id": "df09a201-c912-4852-b687-a9bd18f8269b",
   "metadata": {},
   "outputs": [],
   "source": [
    "# Initialsize an empty dict for optimised model performance\n",
    "optimized_model_performance = {}"
   ]
  },
  {
   "cell_type": "markdown",
   "id": "87593ff4-a842-4df7-a885-110d9a283c0f",
   "metadata": {},
   "source": [
    "### User Based/Item Based Collaborative Filtering"
   ]
  },
  {
   "cell_type": "markdown",
   "id": "b1daf92a-8361-4a87-b104-6a8f83332f40",
   "metadata": {},
   "source": [
    "Optimising using hyperparamter tuning "
   ]
  },
  {
   "cell_type": "markdown",
   "id": "1db9e1c3-14a0-4fd6-8734-21fab6394d88",
   "metadata": {},
   "source": [
    "#### KNNBasic "
   ]
  },
  {
   "cell_type": "code",
   "execution_count": 10,
   "id": "08c77a70-2149-448d-8d3e-79072541d85e",
   "metadata": {},
   "outputs": [],
   "source": [
    "param_grid = {\n",
    "    'k': [10, 20, 30, 40, 50],  # Number of neighbors\n",
    "    'sim_options': {\n",
    "        'name': ['msd', 'cosine', 'pearson'],  # Similarity measures\n",
    "        'user_based': [True, False]  # User-based CF or Item-based CF\n",
    "    }, \n",
    "    'verbose' : [False]\n",
    "}\n",
    "\n",
    "# Configure GridSearchCV\n",
    "gs = GridSearchCV(KNNBasic, param_grid, measures=['rmse', 'mae'], cv=3)\n",
    "\n",
    "# Perform grid search\n",
    "gs.fit(data)"
   ]
  },
  {
   "cell_type": "code",
   "execution_count": 11,
   "id": "6243bcb9-a6b4-4de5-a87f-6af38e42f837",
   "metadata": {},
   "outputs": [
    {
     "name": "stdout",
     "output_type": "stream",
     "text": [
      "Performance Metrics : RMSE\n",
      "RMSE: 0.7001096364211307\n",
      "Best Params: {'k': 10, 'sim_options': {'name': 'cosine', 'user_based': False}, 'verbose': False}\n",
      "\n"
     ]
    }
   ],
   "source": [
    "# Checking Best Score and Parameters using RMSE as the performance Criteria\n",
    "print(\"Performance Metrics : RMSE\")\n",
    "print(\"RMSE:\",gs.best_score['rmse'])\n",
    "print(\"Best Params:\",gs.best_params['rmse'])\n",
    "print()"
   ]
  },
  {
   "cell_type": "code",
   "execution_count": 12,
   "id": "fab9c92b-014b-4eb3-ab18-b248031259d6",
   "metadata": {},
   "outputs": [
    {
     "name": "stdout",
     "output_type": "stream",
     "text": [
      "Model : KnnBasic\n",
      "RMSE: 0.5738\n",
      "MAE:  0.4201\n"
     ]
    }
   ],
   "source": [
    "# Fitting the best model on Train Data and Testing on Test Data \n",
    "knn_basic_params = {'k': 40, 'sim_options': {'name': 'msd', 'user_based': False}, 'verbose': False}\n",
    "knn_basic_final = KNNBasic(**knn_basic_params)\n",
    "\n",
    "knn_basic_final.fit(trainset)\n",
    "\n",
    "knn_basic_final_predictions = knn_basic_final.test(testset)\n",
    "\n",
    "print(\"Model : KnnBasic\")\n",
    "knn_basic_final_rmse = accuracy.rmse(knn_basic_final_predictions)\n",
    "knn_basic_final_mae  = accuracy.mae(knn_basic_final_predictions)\n",
    "\n",
    "optimized_model_performance['knn_basic'] = {\n",
    "    'RMSE' : knn_basic_final_rmse,\n",
    "    'MAE' : knn_basic_final_mae\n",
    "}"
   ]
  },
  {
   "cell_type": "code",
   "execution_count": 13,
   "id": "ddc67246-e03b-4fb5-b13a-9c34851ba3c2",
   "metadata": {},
   "outputs": [
    {
     "data": {
      "text/html": [
       "<div>\n",
       "<style scoped>\n",
       "    .dataframe tbody tr th:only-of-type {\n",
       "        vertical-align: middle;\n",
       "    }\n",
       "\n",
       "    .dataframe tbody tr th {\n",
       "        vertical-align: top;\n",
       "    }\n",
       "\n",
       "    .dataframe thead th {\n",
       "        text-align: right;\n",
       "    }\n",
       "</style>\n",
       "<table border=\"1\" class=\"dataframe\">\n",
       "  <thead>\n",
       "    <tr style=\"text-align: right;\">\n",
       "      <th></th>\n",
       "      <th>Restaraunt ID</th>\n",
       "      <th>Restaraunt Name</th>\n",
       "    </tr>\n",
       "  </thead>\n",
       "  <tbody>\n",
       "    <tr>\n",
       "      <th>39</th>\n",
       "      <td>134983</td>\n",
       "      <td>Restaurant and Bar and Clothesline Carlos N Ch...</td>\n",
       "    </tr>\n",
       "    <tr>\n",
       "      <th>26</th>\n",
       "      <td>132626</td>\n",
       "      <td>la perica hamburguesa</td>\n",
       "    </tr>\n",
       "    <tr>\n",
       "      <th>58</th>\n",
       "      <td>132561</td>\n",
       "      <td>cafe ambar</td>\n",
       "    </tr>\n",
       "    <tr>\n",
       "      <th>116</th>\n",
       "      <td>132870</td>\n",
       "      <td>Tortas y hamburguesas el gordo</td>\n",
       "    </tr>\n",
       "    <tr>\n",
       "      <th>115</th>\n",
       "      <td>132869</td>\n",
       "      <td>Dominos Pizza</td>\n",
       "    </tr>\n",
       "    <tr>\n",
       "      <th>60</th>\n",
       "      <td>132654</td>\n",
       "      <td>Carnitas Mata  Calle 16 de Septiembre</td>\n",
       "    </tr>\n",
       "    <tr>\n",
       "      <th>38</th>\n",
       "      <td>135001</td>\n",
       "      <td>Vips</td>\n",
       "    </tr>\n",
       "    <tr>\n",
       "      <th>59</th>\n",
       "      <td>132706</td>\n",
       "      <td>Gorditas Dona Tota</td>\n",
       "    </tr>\n",
       "    <tr>\n",
       "      <th>40</th>\n",
       "      <td>134996</td>\n",
       "      <td>Sanborns Casa Piedra</td>\n",
       "    </tr>\n",
       "    <tr>\n",
       "      <th>41</th>\n",
       "      <td>135019</td>\n",
       "      <td>Restaurant Bar Coty y Pablo</td>\n",
       "    </tr>\n",
       "  </tbody>\n",
       "</table>\n",
       "</div>"
      ],
      "text/plain": [
       "     Restaraunt ID                                    Restaraunt Name\n",
       "39          134983  Restaurant and Bar and Clothesline Carlos N Ch...\n",
       "26          132626                              la perica hamburguesa\n",
       "58          132561                                         cafe ambar\n",
       "116         132870                     Tortas y hamburguesas el gordo\n",
       "115         132869                                      Dominos Pizza\n",
       "60          132654              Carnitas Mata  Calle 16 de Septiembre\n",
       "38          135001                                               Vips\n",
       "59          132706                                 Gorditas Dona Tota\n",
       "40          134996                               Sanborns Casa Piedra\n",
       "41          135019                        Restaurant Bar Coty y Pablo"
      ]
     },
     "execution_count": 13,
     "metadata": {},
     "output_type": "execute_result"
    }
   ],
   "source": [
    "recommend_places(user_id='U1081',\n",
    "                 item_list=item_list,\n",
    "                 item_mapper=item_mapper,\n",
    "                 model=knn_basic_final,\n",
    "                 topk=10)"
   ]
  },
  {
   "cell_type": "markdown",
   "id": "b0d4e554-dd27-4e4f-89ed-a4a70c001efe",
   "metadata": {},
   "source": [
    "#### KNNMeans"
   ]
  },
  {
   "cell_type": "code",
   "execution_count": 14,
   "id": "a49af2c3-a406-4dd9-9426-76f6f3bbb627",
   "metadata": {},
   "outputs": [],
   "source": [
    "# Define the parameter grid\n",
    "param_grid_knn_means = {\n",
    "    'k': [10, 20, 30, 40, 50],  # number of neighbors\n",
    "    'sim_options': {\n",
    "        'name': ['msd', 'cosine', 'pearson'],  # similarity measure\n",
    "        'user_based': [True, False]  # user-based or item-based CF,\n",
    "    },\n",
    "    'verbose' : [False]\n",
    "}\n",
    "\n",
    "# Configure and run the grid search\n",
    "gs_knn_means = GridSearchCV(KNNWithMeans, param_grid_knn_means, measures=['rmse'], cv=3)\n",
    "gs_knn_means.fit(data)"
   ]
  },
  {
   "cell_type": "code",
   "execution_count": 15,
   "id": "a3324274-1efb-49b2-ac94-9a59696f11ea",
   "metadata": {},
   "outputs": [
    {
     "name": "stdout",
     "output_type": "stream",
     "text": [
      "Performance Metrics : RMSE\n",
      "RMSE : 0.6696582934507974\n",
      "Best Params : {'k': 10, 'sim_options': {'name': 'pearson', 'user_based': True}, 'verbose': False}\n"
     ]
    }
   ],
   "source": [
    "# Fetching Best RMSE and Params\n",
    "best_rmse_knn_means = gs_knn_means.best_score['rmse']\n",
    "best_params_rmse_knn_means = gs_knn_means.best_params['rmse']\n",
    "print(f\"Performance Metrics : RMSE\")\n",
    "print(f\"RMSE : {best_rmse_knn_means}\")\n",
    "print(f\"Best Params : {best_params_rmse_knn_means}\")"
   ]
  },
  {
   "cell_type": "code",
   "execution_count": 16,
   "id": "131fa630-b466-4ea6-a0e6-7ec72fdccb69",
   "metadata": {},
   "outputs": [
    {
     "name": "stdout",
     "output_type": "stream",
     "text": [
      "Model Name : KNNWithMeans\n",
      "RMSE: 0.6327\n",
      "MAE:  0.4862\n"
     ]
    }
   ],
   "source": [
    "# Fitting the best model on Train Set and testing on Test Set \n",
    "best_params_knn_means = {'k': 50, 'sim_options': {'name': 'msd', 'user_based': False}, 'verbose': False}\n",
    "knn_means_final = KNNWithMeans(**best_params_knn_means)\n",
    "\n",
    "# Fitting the final model on train set \n",
    "knn_means_final.fit(trainset)\n",
    "\n",
    "# Getting predictions on test set \n",
    "knn_means_final_predictions = knn_means_final.test(testset)\n",
    "\n",
    "# Calculating Performance Metrics\n",
    "print(\"Model Name : KNNWithMeans\")\n",
    "knn_means_final_rmse = accuracy.rmse(knn_means_final_predictions)\n",
    "knn_means_final_mae = accuracy.mae(knn_means_final_predictions)\n",
    "\n",
    "optimized_model_performance['KnnWithMeans'] = {\n",
    "    \"RMSE\" : knn_means_final_rmse, \n",
    "    \"MAE\" : knn_means_final_mae\n",
    "}"
   ]
  },
  {
   "cell_type": "code",
   "execution_count": 17,
   "id": "201c4e76-e542-46b6-9459-8904a19e5d50",
   "metadata": {},
   "outputs": [
    {
     "data": {
      "text/html": [
       "<div>\n",
       "<style scoped>\n",
       "    .dataframe tbody tr th:only-of-type {\n",
       "        vertical-align: middle;\n",
       "    }\n",
       "\n",
       "    .dataframe tbody tr th {\n",
       "        vertical-align: top;\n",
       "    }\n",
       "\n",
       "    .dataframe thead th {\n",
       "        text-align: right;\n",
       "    }\n",
       "</style>\n",
       "<table border=\"1\" class=\"dataframe\">\n",
       "  <thead>\n",
       "    <tr style=\"text-align: right;\">\n",
       "      <th></th>\n",
       "      <th>Restaraunt ID</th>\n",
       "      <th>Restaraunt Name</th>\n",
       "    </tr>\n",
       "  </thead>\n",
       "  <tbody>\n",
       "    <tr>\n",
       "      <th>51</th>\n",
       "      <td>134975</td>\n",
       "      <td>Rincon del Bife</td>\n",
       "    </tr>\n",
       "    <tr>\n",
       "      <th>42</th>\n",
       "      <td>134976</td>\n",
       "      <td>Log Yin</td>\n",
       "    </tr>\n",
       "    <tr>\n",
       "      <th>46</th>\n",
       "      <td>134986</td>\n",
       "      <td>Restaurant Las Mananitas</td>\n",
       "    </tr>\n",
       "    <tr>\n",
       "      <th>40</th>\n",
       "      <td>134996</td>\n",
       "      <td>Sanborns Casa Piedra</td>\n",
       "    </tr>\n",
       "    <tr>\n",
       "      <th>28</th>\n",
       "      <td>135034</td>\n",
       "      <td>Michiko Restaurant Japones</td>\n",
       "    </tr>\n",
       "    <tr>\n",
       "      <th>45</th>\n",
       "      <td>135013</td>\n",
       "      <td>Giovannis</td>\n",
       "    </tr>\n",
       "    <tr>\n",
       "      <th>128</th>\n",
       "      <td>132955</td>\n",
       "      <td>emilianos</td>\n",
       "    </tr>\n",
       "    <tr>\n",
       "      <th>107</th>\n",
       "      <td>132851</td>\n",
       "      <td>KFC</td>\n",
       "    </tr>\n",
       "    <tr>\n",
       "      <th>66</th>\n",
       "      <td>132755</td>\n",
       "      <td>La Estrella de Dimas</td>\n",
       "    </tr>\n",
       "    <tr>\n",
       "      <th>123</th>\n",
       "      <td>132922</td>\n",
       "      <td>cafe punta del cielo</td>\n",
       "    </tr>\n",
       "  </tbody>\n",
       "</table>\n",
       "</div>"
      ],
      "text/plain": [
       "     Restaraunt ID             Restaraunt Name\n",
       "51          134975             Rincon del Bife\n",
       "42          134976                     Log Yin\n",
       "46          134986    Restaurant Las Mananitas\n",
       "40          134996        Sanborns Casa Piedra\n",
       "28          135034  Michiko Restaurant Japones\n",
       "45          135013                   Giovannis\n",
       "128         132955                   emilianos\n",
       "107         132851                         KFC\n",
       "66          132755        La Estrella de Dimas\n",
       "123         132922        cafe punta del cielo"
      ]
     },
     "execution_count": 17,
     "metadata": {},
     "output_type": "execute_result"
    }
   ],
   "source": [
    "recommend_places(user_id='U1081',\n",
    "                 item_list=item_list,\n",
    "                 item_mapper=item_mapper,\n",
    "                 model=knn_means_final,\n",
    "                 topk=10)"
   ]
  },
  {
   "cell_type": "markdown",
   "id": "455e45cc-f1ee-4fbe-9271-b6fdc618ec1d",
   "metadata": {},
   "source": [
    "### Matrix Factorisation Collaborative Filtering "
   ]
  },
  {
   "cell_type": "markdown",
   "id": "b9d2c44a-7939-4a3b-9d30-7eafee838968",
   "metadata": {},
   "source": [
    "### SVD"
   ]
  },
  {
   "cell_type": "code",
   "execution_count": 18,
   "id": "bf4d9844-bfc3-4ab4-8c30-60195ea6d7a9",
   "metadata": {},
   "outputs": [],
   "source": [
    "# Define the parameter grid\n",
    "param_grid_svd = {\n",
    "    'n_factors': [50, 100, 150, 200],  # Number of factors\n",
    "    'lr_all': [0.002, 0.005, 0.007],  # Learning rate\n",
    "    'reg_all': [0.02, 0.05, 0.1]  # Regularization term\n",
    "}\n",
    "\n",
    "# Configure GridSearchCV\n",
    "gs_svd = GridSearchCV(SVD, param_grid_svd, measures=['rmse'], cv=3)\n",
    "\n",
    "# Fit GridSearchCV\n",
    "gs_svd.fit(data)"
   ]
  },
  {
   "cell_type": "code",
   "execution_count": 19,
   "id": "62fa488c-6a87-4426-a923-ac54b1d6cb7c",
   "metadata": {},
   "outputs": [
    {
     "name": "stdout",
     "output_type": "stream",
     "text": [
      "Performance Metrics : RMSE\n",
      "RMSE : 0.6665180877690893\n",
      "Best Params : {'n_factors': 50, 'lr_all': 0.007, 'reg_all': 0.1}\n"
     ]
    }
   ],
   "source": [
    "best_rmse_svd = gs_svd.best_score['rmse']\n",
    "best_params_svd = gs_svd.best_params['rmse']\n",
    "print(\"Performance Metrics : RMSE\")\n",
    "print(f\"RMSE : {best_rmse_svd}\")\n",
    "print(f\"Best Params : {best_params_svd}\")"
   ]
  },
  {
   "cell_type": "code",
   "execution_count": 20,
   "id": "fc914fa0-4599-4fa2-a81b-e902261a8f2c",
   "metadata": {},
   "outputs": [
    {
     "name": "stdout",
     "output_type": "stream",
     "text": [
      "Model Name : SVD\n",
      "RMSE: 0.6114\n",
      "MAE:  0.5248\n"
     ]
    }
   ],
   "source": [
    "# Fitting the best svd model on whole training data and getting predictions on test set \n",
    "svd_final = SVD(**best_params_svd)\n",
    "\n",
    "# Training on Trainset \n",
    "svd_final.fit(trainset)\n",
    "\n",
    "# Testing on test set \n",
    "svd_final_predictions = svd_final.test(testset)\n",
    "\n",
    "print(\"Model Name : SVD\")\n",
    "svd_final_rmse = accuracy.rmse(svd_final_predictions)\n",
    "svd_final_mae = accuracy.mae(svd_final_predictions)\n",
    "\n",
    "optimized_model_performance['SVD'] = {\n",
    "    \"RMSE\" : svd_final_rmse, \n",
    "    \"MAE\" : svd_final_mae\n",
    "}"
   ]
  },
  {
   "cell_type": "code",
   "execution_count": 21,
   "id": "b8131231-59d4-459c-989c-60af5c6b0d06",
   "metadata": {},
   "outputs": [
    {
     "data": {
      "text/html": [
       "<div>\n",
       "<style scoped>\n",
       "    .dataframe tbody tr th:only-of-type {\n",
       "        vertical-align: middle;\n",
       "    }\n",
       "\n",
       "    .dataframe tbody tr th {\n",
       "        vertical-align: top;\n",
       "    }\n",
       "\n",
       "    .dataframe thead th {\n",
       "        text-align: right;\n",
       "    }\n",
       "</style>\n",
       "<table border=\"1\" class=\"dataframe\">\n",
       "  <thead>\n",
       "    <tr style=\"text-align: right;\">\n",
       "      <th></th>\n",
       "      <th>Restaraunt ID</th>\n",
       "      <th>Restaraunt Name</th>\n",
       "    </tr>\n",
       "  </thead>\n",
       "  <tbody>\n",
       "    <tr>\n",
       "      <th>46</th>\n",
       "      <td>134986</td>\n",
       "      <td>Restaurant Las Mananitas</td>\n",
       "    </tr>\n",
       "    <tr>\n",
       "      <th>62</th>\n",
       "      <td>135025</td>\n",
       "      <td>El Rincon de San Francisco</td>\n",
       "    </tr>\n",
       "    <tr>\n",
       "      <th>128</th>\n",
       "      <td>132955</td>\n",
       "      <td>emilianos</td>\n",
       "    </tr>\n",
       "    <tr>\n",
       "      <th>70</th>\n",
       "      <td>132754</td>\n",
       "      <td>Cabana Huasteca</td>\n",
       "    </tr>\n",
       "    <tr>\n",
       "      <th>66</th>\n",
       "      <td>132755</td>\n",
       "      <td>La Estrella de Dimas</td>\n",
       "    </tr>\n",
       "    <tr>\n",
       "      <th>82</th>\n",
       "      <td>135030</td>\n",
       "      <td>Preambulo Wifi Zone Cafe</td>\n",
       "    </tr>\n",
       "    <tr>\n",
       "      <th>96</th>\n",
       "      <td>135055</td>\n",
       "      <td>la Cochinita Pibil Restaurante Yucateco</td>\n",
       "    </tr>\n",
       "    <tr>\n",
       "      <th>107</th>\n",
       "      <td>132851</td>\n",
       "      <td>KFC</td>\n",
       "    </tr>\n",
       "    <tr>\n",
       "      <th>9</th>\n",
       "      <td>132584</td>\n",
       "      <td>Gorditas Dona Tota</td>\n",
       "    </tr>\n",
       "    <tr>\n",
       "      <th>42</th>\n",
       "      <td>134976</td>\n",
       "      <td>Log Yin</td>\n",
       "    </tr>\n",
       "  </tbody>\n",
       "</table>\n",
       "</div>"
      ],
      "text/plain": [
       "     Restaraunt ID                          Restaraunt Name\n",
       "46          134986                 Restaurant Las Mananitas\n",
       "62          135025               El Rincon de San Francisco\n",
       "128         132955                                emilianos\n",
       "70          132754                          Cabana Huasteca\n",
       "66          132755                     La Estrella de Dimas\n",
       "82          135030                 Preambulo Wifi Zone Cafe\n",
       "96          135055  la Cochinita Pibil Restaurante Yucateco\n",
       "107         132851                                      KFC\n",
       "9           132584                       Gorditas Dona Tota\n",
       "42          134976                                  Log Yin"
      ]
     },
     "execution_count": 21,
     "metadata": {},
     "output_type": "execute_result"
    }
   ],
   "source": [
    "recommend_places(user_id='U1081',\n",
    "                 item_list=item_list,\n",
    "                 item_mapper=item_mapper,\n",
    "                 model=svd_final,\n",
    "                 topk=10)"
   ]
  },
  {
   "cell_type": "markdown",
   "id": "02e447ce-317c-416c-bde0-691c83e55cb8",
   "metadata": {},
   "source": [
    "### NMF"
   ]
  },
  {
   "cell_type": "code",
   "execution_count": 22,
   "id": "2a639513-e1ad-4133-a148-1495bd29210e",
   "metadata": {},
   "outputs": [],
   "source": [
    "# Define the parameter grid\n",
    "param_grid_nmf = {\n",
    "        'n_factors': [50, 100, 150, 200],  # Number of latent factors\n",
    "        'n_epochs': [50, 100],  # Number of epochs\n",
    "        'reg_pu': [0.06, 0.1],  # Regularization term for users\n",
    "        'reg_qi': [0.06, 0.1]  # Regularization term for items\n",
    "}\n",
    "\n",
    "# Configure GridSearchCV\n",
    "gs_nmf = GridSearchCV(NMF, param_grid_nmf, measures=['rmse'], cv=3)\n",
    "\n",
    "# Fit GridSearchCV\n",
    "gs_nmf.fit(data)"
   ]
  },
  {
   "cell_type": "code",
   "execution_count": 23,
   "id": "532099da-a3e7-4fdc-aeba-1593668643a2",
   "metadata": {},
   "outputs": [
    {
     "name": "stdout",
     "output_type": "stream",
     "text": [
      "Performance Metrics : RMSE\n",
      "RMSE : 0.7106438403959275\n",
      "Best Params : {'n_factors': 100, 'n_epochs': 50, 'reg_pu': 0.06, 'reg_qi': 0.06}\n"
     ]
    }
   ],
   "source": [
    "best_rmse_nmf = gs_nmf.best_score['rmse']\n",
    "best_params_nmf = gs_nmf.best_params['rmse']\n",
    "print(\"Performance Metrics : RMSE\")\n",
    "print(f\"RMSE : {best_rmse_nmf}\")\n",
    "print(f\"Best Params : {best_params_nmf}\")"
   ]
  },
  {
   "cell_type": "code",
   "execution_count": 24,
   "id": "296c4be1-d156-4a86-a26e-97f5a98bed71",
   "metadata": {},
   "outputs": [
    {
     "name": "stdout",
     "output_type": "stream",
     "text": [
      "Model Name : NMF\n",
      "RMSE: 0.6680\n",
      "MAE:  0.5127\n"
     ]
    }
   ],
   "source": [
    "## Fitting the best NMF Model with best params\n",
    "nmf_final = NMF(**best_params_nmf)\n",
    "\n",
    "# Fit the model on training set \n",
    "nmf_final.fit(trainset)\n",
    "\n",
    "# Get predictions on test set \n",
    "nmf_final_predictions = nmf_final.test(testset)\n",
    "\n",
    "print(\"Model Name : NMF\")\n",
    "nmf_final_rmse = accuracy.rmse(nmf_final_predictions)\n",
    "nmf_final_mae = accuracy.mae(nmf_final_predictions)\n",
    "\n",
    "optimized_model_performance['NMF'] = {\n",
    "    \"RMSE\" : nmf_final_rmse,\n",
    "    \"MAE\"  : nmf_final_mae\n",
    "}"
   ]
  },
  {
   "cell_type": "code",
   "execution_count": 25,
   "id": "f39e2ad4-951b-46d2-88a2-b2a70dea00d6",
   "metadata": {},
   "outputs": [
    {
     "data": {
      "text/html": [
       "<div>\n",
       "<style scoped>\n",
       "    .dataframe tbody tr th:only-of-type {\n",
       "        vertical-align: middle;\n",
       "    }\n",
       "\n",
       "    .dataframe tbody tr th {\n",
       "        vertical-align: top;\n",
       "    }\n",
       "\n",
       "    .dataframe thead th {\n",
       "        text-align: right;\n",
       "    }\n",
       "</style>\n",
       "<table border=\"1\" class=\"dataframe\">\n",
       "  <thead>\n",
       "    <tr style=\"text-align: right;\">\n",
       "      <th></th>\n",
       "      <th>Restaraunt ID</th>\n",
       "      <th>Restaraunt Name</th>\n",
       "    </tr>\n",
       "  </thead>\n",
       "  <tbody>\n",
       "    <tr>\n",
       "      <th>34</th>\n",
       "      <td>135028</td>\n",
       "      <td>La Virreina</td>\n",
       "    </tr>\n",
       "    <tr>\n",
       "      <th>2</th>\n",
       "      <td>132825</td>\n",
       "      <td>puesto de tacos</td>\n",
       "    </tr>\n",
       "    <tr>\n",
       "      <th>70</th>\n",
       "      <td>132754</td>\n",
       "      <td>Cabana Huasteca</td>\n",
       "    </tr>\n",
       "    <tr>\n",
       "      <th>77</th>\n",
       "      <td>135069</td>\n",
       "      <td>Abondance Restaurante Bar</td>\n",
       "    </tr>\n",
       "    <tr>\n",
       "      <th>46</th>\n",
       "      <td>134986</td>\n",
       "      <td>Restaurant Las Mananitas</td>\n",
       "    </tr>\n",
       "    <tr>\n",
       "      <th>40</th>\n",
       "      <td>134996</td>\n",
       "      <td>Sanborns Casa Piedra</td>\n",
       "    </tr>\n",
       "    <tr>\n",
       "      <th>82</th>\n",
       "      <td>135030</td>\n",
       "      <td>Preambulo Wifi Zone Cafe</td>\n",
       "    </tr>\n",
       "    <tr>\n",
       "      <th>93</th>\n",
       "      <td>135059</td>\n",
       "      <td>Restaurant Bar Hacienda los Martinez</td>\n",
       "    </tr>\n",
       "    <tr>\n",
       "      <th>91</th>\n",
       "      <td>135066</td>\n",
       "      <td>Restaurante Guerra</td>\n",
       "    </tr>\n",
       "    <tr>\n",
       "      <th>96</th>\n",
       "      <td>135055</td>\n",
       "      <td>la Cochinita Pibil Restaurante Yucateco</td>\n",
       "    </tr>\n",
       "  </tbody>\n",
       "</table>\n",
       "</div>"
      ],
      "text/plain": [
       "    Restaraunt ID                          Restaraunt Name\n",
       "34         135028                              La Virreina\n",
       "2          132825                          puesto de tacos\n",
       "70         132754                          Cabana Huasteca\n",
       "77         135069                Abondance Restaurante Bar\n",
       "46         134986                 Restaurant Las Mananitas\n",
       "40         134996                     Sanborns Casa Piedra\n",
       "82         135030                 Preambulo Wifi Zone Cafe\n",
       "93         135059     Restaurant Bar Hacienda los Martinez\n",
       "91         135066                       Restaurante Guerra\n",
       "96         135055  la Cochinita Pibil Restaurante Yucateco"
      ]
     },
     "execution_count": 25,
     "metadata": {},
     "output_type": "execute_result"
    }
   ],
   "source": [
    "recommend_places(user_id='U1081',\n",
    "                 item_list=item_list,\n",
    "                 item_mapper=item_mapper,\n",
    "                 model=nmf_final,\n",
    "                 topk=10)"
   ]
  },
  {
   "cell_type": "markdown",
   "id": "b10f4d68-e311-4524-a5aa-d4b05b16c907",
   "metadata": {},
   "source": [
    "### Performance Comparison "
   ]
  },
  {
   "cell_type": "code",
   "execution_count": 26,
   "id": "f25aefd3-cbb9-4bf7-89fa-6ade4861c724",
   "metadata": {},
   "outputs": [
    {
     "data": {
      "text/html": [
       "<div>\n",
       "<style scoped>\n",
       "    .dataframe tbody tr th:only-of-type {\n",
       "        vertical-align: middle;\n",
       "    }\n",
       "\n",
       "    .dataframe tbody tr th {\n",
       "        vertical-align: top;\n",
       "    }\n",
       "\n",
       "    .dataframe thead th {\n",
       "        text-align: right;\n",
       "    }\n",
       "</style>\n",
       "<table border=\"1\" class=\"dataframe\">\n",
       "  <thead>\n",
       "    <tr style=\"text-align: right;\">\n",
       "      <th></th>\n",
       "      <th>Model</th>\n",
       "      <th>RMSE</th>\n",
       "      <th>MAE</th>\n",
       "    </tr>\n",
       "  </thead>\n",
       "  <tbody>\n",
       "    <tr>\n",
       "      <th>0</th>\n",
       "      <td>NMF</td>\n",
       "      <td>0.668036</td>\n",
       "      <td>0.512722</td>\n",
       "    </tr>\n",
       "    <tr>\n",
       "      <th>1</th>\n",
       "      <td>KnnWithMeans</td>\n",
       "      <td>0.632713</td>\n",
       "      <td>0.486178</td>\n",
       "    </tr>\n",
       "    <tr>\n",
       "      <th>2</th>\n",
       "      <td>SVD</td>\n",
       "      <td>0.611361</td>\n",
       "      <td>0.524772</td>\n",
       "    </tr>\n",
       "    <tr>\n",
       "      <th>3</th>\n",
       "      <td>knn_basic</td>\n",
       "      <td>0.573800</td>\n",
       "      <td>0.420076</td>\n",
       "    </tr>\n",
       "  </tbody>\n",
       "</table>\n",
       "</div>"
      ],
      "text/plain": [
       "          Model      RMSE       MAE\n",
       "0           NMF  0.668036  0.512722\n",
       "1  KnnWithMeans  0.632713  0.486178\n",
       "2           SVD  0.611361  0.524772\n",
       "3     knn_basic  0.573800  0.420076"
      ]
     },
     "execution_count": 26,
     "metadata": {},
     "output_type": "execute_result"
    }
   ],
   "source": [
    "opt_performance_df = pd.DataFrame(optimized_model_performance).T\n",
    "opt_performance_df = opt_performance_df.sort_values(by=['RMSE', 'MAE'], ascending=[False, False])\n",
    "opt_performance_df.head()\n",
    "\n",
    "opt_performance_df = opt_performance_df.reset_index()\n",
    "opt_performance_df.rename(columns={'index' : 'Model'}, inplace=True)\n",
    "opt_performance_df.head()"
   ]
  },
  {
   "cell_type": "code",
   "execution_count": 27,
   "id": "68c8337d-2d14-42b2-8cc4-eb49dbe08b2f",
   "metadata": {},
   "outputs": [
    {
     "data": {
      "image/png": "[encoded data removed]",
      "text/plain": [
       "<Figure size 1000x600 with 2 Axes>"
      ]
     },
     "metadata": {},
     "output_type": "display_data"
    }
   ],
   "source": [
    "# Now, let's use seaborn to plot the model performance\n",
    "sns.set(style=\"whitegrid\")\n",
    "fig, ax1 = plt.subplots(figsize=(10, 6))\n",
    "\n",
    "# Plotting RMSE values\n",
    "sns.barplot(x=\"Model\", y=\"RMSE\", data=opt_performance_df, color='b', ax=ax1)\n",
    "ax1.set_ylabel('RMSE', color='b')\n",
    "\n",
    "# Creating a twin Y-axis to plot MAE values\n",
    "ax2 = ax1.twinx()\n",
    "sns.lineplot(x=\"Model\", y=\"MAE\", data=opt_performance_df, marker='o', color='r', ax=ax2)\n",
    "ax2.set_ylabel('MAE', color='r')\n",
    "\n",
    "# Setting the plot title and labels\n",
    "plt.title('Comparison of Model Performance (RMSE and MAE)')\n",
    "ax1.set_xticklabels(ax1.get_xticklabels(), rotation=45, ha='right')\n",
    "plt.tight_layout()\n",
    "\n",
    "# Display the plot\n",
    "plt.show()"
   ]
  },
  {
   "cell_type": "markdown",
   "id": "6c7d1db9-768c-4c45-b1ec-0616c85e4ebc",
   "metadata": {},
   "source": [
    "We can see that KNNBasic Item Based Collaborating Filterting performs the best "
   ]
  },
  {
   "cell_type": "markdown",
   "id": "c0eda633-a0cd-4adb-9cbb-afb119a77fe9",
   "metadata": {},
   "source": [
    "Integrating Restaraunt Clusters from GMM clustering to the best collaborative filtering recommender system "
   ]
  },
  {
   "cell_type": "markdown",
   "id": "8f20417b-241b-44f8-a1bc-1516bee2f068",
   "metadata": {},
   "source": [
    "#### Data Preparation"
   ]
  },
  {
   "cell_type": "code",
   "execution_count": 28,
   "id": "8d0f1db2-46f8-4d50-8665-0e8a5bfc4422",
   "metadata": {},
   "outputs": [],
   "source": [
    "# Merge ratings with restaurant clusters to find out user's most common cluster\n",
    "user_cluster_data = pd.merge(ratings, restaraunts[['placeID', 'cluster']], on='placeID')"
   ]
  },
  {
   "cell_type": "code",
   "execution_count": 29,
   "id": "b0c43a65-6fa4-4937-b046-ebd7112d259d",
   "metadata": {},
   "outputs": [],
   "source": [
    "def get_popularity_based_recommendations(cluster_restaurant_ids, ratings, topk=10):\n",
    "    # Filter ratings for the given cluster's restaurants\n",
    "    cluster_ratings = ratings[ratings['placeID'].isin(cluster_restaurant_ids)]\n",
    "    # Aggregate ratings to find the most popular items\n",
    "    popularity_scores = cluster_ratings.groupby('placeID')['rating'].mean().sort_values(ascending=False)\n",
    "    top_items = popularity_scores.head(topk).index.tolist()\n",
    "    return top_items  # Returns the top-k item IDs\n"
   ]
  },
  {
   "cell_type": "code",
   "execution_count": 30,
   "id": "216e2ff1-12ee-44bc-8b18-ad5bda161872",
   "metadata": {},
   "outputs": [],
   "source": [
    "# Function to get the most common cluster for a user\n",
    "def get_most_common_cluster(user_id, user_cluster_data):\n",
    "    user_data = user_cluster_data[user_cluster_data['userID'] == user_id]\n",
    "    if user_data.empty:\n",
    "        return None  # No data for this user\n",
    "    return user_data['cluster'].mode()[0]  # Most common cluster for this user\n",
    "\n",
    "# Assuming 'model' is your trained KNNBasic model with the best parameters\n",
    "# Here is an example of how to use this in a complete process:\n",
    "def get_cluster_recommendations(user_id, all_restaurants, user_cluster_data, item_mapper, model, topk=10):\n",
    "    most_common_cluster = get_most_common_cluster(user_id, user_cluster_data)\n",
    "    if most_common_cluster is not None:\n",
    "        # Filter all_restaurants for those in the most common cluster\n",
    "        cluster_restaurants = all_restaurants[all_restaurants['cluster'] == most_common_cluster]\n",
    "        cluster_restaurant_ids = cluster_restaurants['placeID'].tolist()\n",
    "        \n",
    "        # Get recommendations using the recommend_places function\n",
    "        return recommend_places(user_id, cluster_restaurant_ids, item_mapper, model, topk)\n",
    "    else:\n",
    "        # If user's preferred cluster is not known, provide global popularity-based recommendations\n",
    "        global_popular_items = get_popularity_based_recommendations(all_restaurants['placeID'].tolist(), ratings, topk)\n",
    "        # Construct the recommendations DataFrame\n",
    "        global_popular_recommendations_df = pd.DataFrame({'Restaurant ID': global_popular_items}).merge(all_restaurants[['placeID', 'name']], left_on='Restaurant ID', right_on='placeID', how='left')\n",
    "        return global_popular_recommendations_df[['Restaurant ID', 'name']].rename(columns={'name': 'Restaurant Name'})"
   ]
  },
  {
   "cell_type": "code",
   "execution_count": 31,
   "id": "f3a3f4ec-7072-45a6-a4e9-ed05612e365d",
   "metadata": {},
   "outputs": [
    {
     "name": "stdout",
     "output_type": "stream",
     "text": [
      "    Restaraunt ID                          Restaraunt Name\n",
      "58         134986                 Restaurant Las Mananitas\n",
      "31         135034               Michiko Restaurant Japones\n",
      "53         132755                     La Estrella de Dimas\n",
      "0          134999                          Kiku Cuernavaca\n",
      "33         135055  la Cochinita Pibil Restaurante Yucateco\n",
      "25         132869                            Dominos Pizza\n",
      "46         135035                     El Mundo de la Pasta\n",
      "19         135030                 Preambulo Wifi Zone Cafe\n",
      "62         132754                          Cabana Huasteca\n",
      "64         135028                              La Virreina\n"
     ]
    }
   ],
   "source": [
    "# Example usage:\n",
    "user_id = 'U1081'  # Replace with an actual user ID\n",
    "all_restaurants = restaraunts.copy()  # Assuming this is your restaurants DataFrame\n",
    "top_recommendations = get_cluster_recommendations(user_id, all_restaurants, user_cluster_data, item_mapper, knn_means_final, topk=10)\n",
    "print(top_recommendations)"
   ]
  },
  {
   "cell_type": "code",
   "execution_count": null,
   "id": "61fec658-fb01-42dd-969b-15dc9f6f9e34",
   "metadata": {},
   "outputs": [],
   "source": []
  }
 ],
 "metadata": {
  "kernelspec": {
   "display_name": "Python 3 (ipykernel)",
   "language": "python",
   "name": "python3"
  },
  "language_info": {
   "codemirror_mode": {
    "name": "ipython",
    "version": 3
   },
   "file_extension": ".py",
   "mimetype": "text/x-python",
   "name": "python",
   "nbconvert_exporter": "python",
   "pygments_lexer": "ipython3",
   "version": "3.11.8"
  }
 },
 "nbformat": 4,
 "nbformat_minor": 5
}
